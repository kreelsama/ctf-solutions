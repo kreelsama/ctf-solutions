{
 "cells": [
  {
   "cell_type": "markdown",
   "metadata": {},
   "source": [
    "$c_1=f_1(flag+nonce1)$ and $c_2=f_2(flag+nonce2)$, we want flag.\n",
    "\n",
    "Let $f'_1(x)=f_1(x+nonce1)-c_1$ and $f'_2(x)=f(x+nonce2)-c2$, so $x=flag$ is the common root, which means $res_x(f'_1,f'_2)=0$ (can be verified), so there is a resultant polynomial of $f'_1$ and $f'_2$ which has a root equals flag. so enjoy it:> "
   ]
  },
  {
   "cell_type": "code",
   "execution_count": 1,
   "metadata": {},
   "outputs": [],
   "source": [
    "p=95205538131213971140072808828654332174435334703970783102331129898188793392841863996663768375424766796314047808506046082935570683251972966212316949229945314886346852222674574330107461922618178840787822911551588671837032262258583272159992197510754229457890200528816618643324211865454233755185666024044243506601\n",
    "nonce0 = 94180333572088829278810290674105915908424369627174267258558843076106489501142269190179276506250870383188195211166350074523052583851824494962752200323003258244294114183821010604732472862449037195730829248810838035180744877327395400325636388503275902051671957059018975479130403032464302468730603467037030409055 \n",
    "nonce1 = 80004153072245705383619852661522456778287133505387322681244193543976597469526369585227671721761655874967352667868650908448756322783793880282393025664086588922221102828469276600920447625322469870884925905249428796146614854375129005834044105866369644908869582505109987239037231810664908749491119686923567590974\n",
    "c0 = 79198178213563009314132321396616411942669083003899174694110851188019145593263089498165543698026498312244097938271703250996241828015876005455710298732878047365870653521099309170537003028267426232491716917082330910476996131802730715335098856398344321956545158124622781999277391719739066295084470110968200293904 \n",
    "c1 = 51726930397786610297714848340047365275196193825558136836331739629075460304372328442487071559258860842475949471688971563095916337728351253332551829582745018527436268629018425884970798417988553768447086252711456933574721217690000381379551127784742735777613837560923496587197570498686630419399648066007808471788"
   ]
  },
  {
   "cell_type": "code",
   "execution_count": 2,
   "metadata": {},
   "outputs": [],
   "source": [
    "with open('output.txt', 'r') as f:\n",
    "    c = f.read()\n",
    "    "
   ]
  },
  {
   "cell_type": "code",
   "execution_count": null,
   "metadata": {},
   "outputs": [],
   "source": [
    "F.<x> = PolynomialRing(GF(p))"
   ]
  },
  {
   "cell_type": "code",
   "execution_count": null,
   "metadata": {},
   "outputs": [],
   "source": [
    "exec('poly0 = ' + c.split('\\n')[0])\n",
    "exec('poly1 = ' + c.split('\\n')[1])"
   ]
  },
  {
   "cell_type": "code",
   "execution_count": 11,
   "metadata": {},
   "outputs": [
    {
     "data": {
      "text/plain": [
       "True"
      ]
     },
     "execution_count": 11,
     "metadata": {},
     "output_type": "execute_result"
    }
   ],
   "source": [
    "poly0.is_irreducible()"
   ]
  },
  {
   "cell_type": "code",
   "execution_count": 12,
   "metadata": {},
   "outputs": [],
   "source": [
    "F.<y> = PolynomialRing(GF(p))"
   ]
  },
  {
   "cell_type": "code",
   "execution_count": 15,
   "metadata": {},
   "outputs": [
    {
     "data": {
      "text/plain": [
       "y"
      ]
     },
     "execution_count": 15,
     "metadata": {},
     "output_type": "execute_result"
    }
   ],
   "source": [
    "y"
   ]
  },
  {
   "cell_type": "code",
   "execution_count": 21,
   "metadata": {},
   "outputs": [],
   "source": [
    "py0 = poly0(nonce0+y)-c0"
   ]
  },
  {
   "cell_type": "code",
   "execution_count": 22,
   "metadata": {},
   "outputs": [],
   "source": [
    "py1 = poly1(nonce1+y)-c1"
   ]
  },
  {
   "cell_type": "code",
   "execution_count": 25,
   "metadata": {},
   "outputs": [],
   "source": [
    "flag_root = gcd(py0,py1)"
   ]
  },
  {
   "cell_type": "code",
   "execution_count": 29,
   "metadata": {},
   "outputs": [],
   "source": [
    "flag = flag_root.roots()[0][0]"
   ]
  },
  {
   "cell_type": "code",
   "execution_count": 30,
   "metadata": {},
   "outputs": [],
   "source": [
    "from Crypto.Util.number import long_to_bytes"
   ]
  },
  {
   "cell_type": "code",
   "execution_count": 31,
   "metadata": {},
   "outputs": [
    {
     "data": {
      "text/plain": [
       "b'0ops{912fc390f5ad70526b3b795f16fb63}'"
      ]
     },
     "execution_count": 31,
     "metadata": {},
     "output_type": "execute_result"
    }
   ],
   "source": [
    "long_to_bytes(flag)"
   ]
  },
  {
   "cell_type": "code",
   "execution_count": null,
   "metadata": {},
   "outputs": [],
   "source": []
  }
 ],
 "metadata": {
  "kernelspec": {
   "display_name": "SageMath 8.1",
   "language": "",
   "name": "sagemath"
  },
  "language_info": {
   "codemirror_mode": {
    "name": "ipython",
    "version": 2
   },
   "file_extension": ".py",
   "mimetype": "text/x-python",
   "name": "python",
   "nbconvert_exporter": "python",
   "pygments_lexer": "ipython2",
   "version": "2.7.17"
  }
 },
 "nbformat": 4,
 "nbformat_minor": 4
}
