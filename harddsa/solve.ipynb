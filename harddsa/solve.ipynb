{
 "cells": [
  {
   "cell_type": "code",
   "execution_count": 1,
   "metadata": {},
   "outputs": [],
   "source": [
    "from os import urandom\n",
    "from hashlib import sha1\n",
    "from Crypto.Util.number import bytes_to_long\n",
    "\n",
    "p = 89884656743115795389374444357965596041707103579335619241165156429225502365521439025499103971147870579637910013872240481446642759865727715143856448882853102298215102584779112052046581658273396430166671654945955572937243406324990511517175949775424708250369373972195526071010722126994053027079640824789677194681L\n",
    "q = 838114989280207343931101099984559960927246139967L\n",
    "g = 81276779940548524670494254192706613917067069432886996156070646492653656558343240172021379272918460788370332639784438273863095242075038574780575863033117339765921362764295832142292157994542582821081221019750571423117394603653210942993984937508928164068015833890842969704124928271625205241823140934184765854933L\n",
    "\n",
    "def myrandom(k):\n",
    "    length = k.bit_length() / 8 + 2\n",
    "    tmp = bytes_to_long(urandom(length))\n",
    "    return tmp % k\n",
    "\n",
    "def hash(m):\n",
    "    return int(sha1(m).hexdigest(), 16)\n",
    "\n",
    "def sign(m):\n",
    "    k = myrandom(q)\n",
    "    k ^= (k&0xff)\n",
    "    assert k > 1\n",
    "    r = pow(g, k, p) % q\n",
    "    assert r != 0\n",
    "    s = pow(k,q-2,q) * (hash(m)+x*r) % q\n",
    "    assert s != 0\n",
    "    return r, s"
   ]
  },
  {
   "cell_type": "markdown",
   "metadata": {},
   "source": [
    "Biased Nonce Attack:\n",
    "ref: https://raw.githubusercontent.com/fortenforge/defconquals2018-official/master/solve.sage, https://fortenf.org/e/ctfs/pwn/crypto/2018/05/07/defconquals2018-official.html, https://crypto.stackexchange.com/questions/44644/how-does-the-biased-k-attack-on-ecdsa-work"
   ]
  },
  {
   "cell_type": "code",
   "execution_count": 3,
   "metadata": {},
   "outputs": [
    {
     "data": {
      "text/plain": [
       "160"
      ]
     },
     "execution_count": 3,
     "metadata": {},
     "output_type": "execute_result"
    }
   ],
   "source": [
    "q.bit_length()"
   ]
  },
  {
   "cell_type": "code",
   "execution_count": 5,
   "metadata": {},
   "outputs": [],
   "source": [
    "from Crypto.Util.number import *\n",
    "m = 0x9aa471b4c9420bc0599c31f9c0e24e71 \n",
    "r = 0x518582357988145643435457897918145863922774114051 \n",
    "s = 0x213427738704323275949069514099736896476144456360\n",
    "A = r / s % q\n",
    "B = bytes_to_long(sha1(long_to_bytes(m)).digest()) / s % q"
   ]
  },
  {
   "cell_type": "code",
   "execution_count": 9,
   "metadata": {},
   "outputs": [
    {
     "ename": "ZeroDivisionError",
     "evalue": "inverse of Mod(248, 256) does not exist",
     "output_type": "error",
     "traceback": [
      "\u001b[0;31m---------------------------------------------------------------------------\u001b[0m",
      "\u001b[0;31mZeroDivisionError\u001b[0m                         Traceback (most recent call last)",
      "\u001b[0;32m<ipython-input-9-d87838db3e3c>\u001b[0m in \u001b[0;36m<module>\u001b[0;34m\u001b[0m\n\u001b[0;32m----> 1\u001b[0;31m \u001b[0mB\u001b[0m\u001b[0;34m/\u001b[0m\u001b[0mA\u001b[0m \u001b[0;34m%\u001b[0m \u001b[0mInteger\u001b[0m\u001b[0;34m(\u001b[0m\u001b[0;36m256\u001b[0m\u001b[0;34m)\u001b[0m\u001b[0;34m\u001b[0m\u001b[0;34m\u001b[0m\u001b[0m\n\u001b[0m",
      "\u001b[0;32m/usr/lib/python3/dist-packages/sage/rings/rational.pyx\u001b[0m in \u001b[0;36msage.rings.rational.Rational.__mod__ (build/cythonized/sage/rings/rational.c:23310)\u001b[0;34m()\u001b[0m\n\u001b[1;32m   2823\u001b[0m         \u001b[0mn\u001b[0m \u001b[0;34m=\u001b[0m \u001b[0mrat\u001b[0m\u001b[0;34m.\u001b[0m\u001b[0mnumer\u001b[0m\u001b[0;34m(\u001b[0m\u001b[0;34m)\u001b[0m \u001b[0;34m%\u001b[0m \u001b[0mother\u001b[0m\u001b[0;34m\u001b[0m\u001b[0;34m\u001b[0m\u001b[0m\n\u001b[1;32m   2824\u001b[0m         \u001b[0md\u001b[0m \u001b[0;34m=\u001b[0m \u001b[0mrat\u001b[0m\u001b[0;34m.\u001b[0m\u001b[0mdenom\u001b[0m\u001b[0;34m(\u001b[0m\u001b[0;34m)\u001b[0m \u001b[0;34m%\u001b[0m \u001b[0mother\u001b[0m\u001b[0;34m\u001b[0m\u001b[0;34m\u001b[0m\u001b[0m\n\u001b[0;32m-> 2825\u001b[0;31m         \u001b[0md\u001b[0m \u001b[0;34m=\u001b[0m \u001b[0md\u001b[0m\u001b[0;34m.\u001b[0m\u001b[0minverse_mod\u001b[0m\u001b[0;34m(\u001b[0m\u001b[0mother\u001b[0m\u001b[0;34m)\u001b[0m\u001b[0;34m\u001b[0m\u001b[0;34m\u001b[0m\u001b[0m\n\u001b[0m\u001b[1;32m   2826\u001b[0m         \u001b[0;32mreturn\u001b[0m \u001b[0;34m(\u001b[0m\u001b[0mn\u001b[0m \u001b[0;34m*\u001b[0m \u001b[0md\u001b[0m\u001b[0;34m)\u001b[0m \u001b[0;34m%\u001b[0m \u001b[0mother\u001b[0m\u001b[0;34m\u001b[0m\u001b[0;34m\u001b[0m\u001b[0m\n\u001b[1;32m   2827\u001b[0m \u001b[0;34m\u001b[0m\u001b[0m\n",
      "\u001b[0;32m/usr/lib/python3/dist-packages/sage/rings/integer.pyx\u001b[0m in \u001b[0;36msage.rings.integer.Integer.inverse_mod (build/cythonized/sage/rings/integer.c:40933)\u001b[0;34m()\u001b[0m\n\u001b[1;32m   6750\u001b[0m         \u001b[0msig_off\u001b[0m\u001b[0;34m(\u001b[0m\u001b[0;34m)\u001b[0m\u001b[0;34m\u001b[0m\u001b[0;34m\u001b[0m\u001b[0m\n\u001b[1;32m   6751\u001b[0m         \u001b[0;32mif\u001b[0m \u001b[0mr\u001b[0m \u001b[0;34m==\u001b[0m \u001b[0;36m0\u001b[0m\u001b[0;34m:\u001b[0m\u001b[0;34m\u001b[0m\u001b[0;34m\u001b[0m\u001b[0m\n\u001b[0;32m-> 6752\u001b[0;31m             \u001b[0;32mraise\u001b[0m \u001b[0mZeroDivisionError\u001b[0m\u001b[0;34m(\u001b[0m\u001b[0;34mf\"inverse of Mod({self}, {m}) does not exist\"\u001b[0m\u001b[0;34m)\u001b[0m\u001b[0;34m\u001b[0m\u001b[0;34m\u001b[0m\u001b[0m\n\u001b[0m\u001b[1;32m   6753\u001b[0m         \u001b[0;32mreturn\u001b[0m \u001b[0mans\u001b[0m\u001b[0;34m\u001b[0m\u001b[0;34m\u001b[0m\u001b[0m\n\u001b[1;32m   6754\u001b[0m \u001b[0;34m\u001b[0m\u001b[0m\n",
      "\u001b[0;31mZeroDivisionError\u001b[0m: inverse of Mod(248, 256) does not exist"
     ]
    }
   ],
   "source": [
    "B/A % 256"
   ]
  },
  {
   "cell_type": "code",
   "execution_count": 11,
   "metadata": {},
   "outputs": [
    {
     "data": {
      "text/plain": [
       "130"
      ]
     },
     "execution_count": 11,
     "metadata": {},
     "output_type": "execute_result"
    }
   ],
   "source": [
    "(-B) % 256"
   ]
  },
  {
   "cell_type": "code",
   "execution_count": 12,
   "metadata": {},
   "outputs": [
    {
     "data": {
      "text/plain": [
       "240"
      ]
     },
     "execution_count": 12,
     "metadata": {},
     "output_type": "execute_result"
    }
   ],
   "source": [
    "A%256"
   ]
  },
  {
   "cell_type": "code",
   "execution_count": 104,
   "metadata": {},
   "outputs": [],
   "source": [
    "ip = '''\n",
    "9aa471b4c9420bc0599c31f9c0e24e71 518582357988145643435457897918145863922774114051 213427738704323275949069514099736896476144456360\n",
    "0fbbbbbe4ef6ae29f23543fa5b3b8b96 392516195332208267767654187347714927886480763236 562059909545599169605845280358206015358512321904\n",
    "9bef9ff3122bdfd70cbe4e866611e1b5 626882711204500271415401445765077653943424977961 404255493316642808486180329001607700859706879383\n",
    "0535a1c1916e64d53b400972f77232cc 699202469365435082798516056641873277524411707566 111284345109207280548091345325435060690235688208\n",
    "19c339887ec448b3b0bb1ed449c6d6e6 779329882844363015643707117975164285551886171262 549857196886142370932233570289861104190613522767\n",
    "3412ce5eec5a916a04ad83b02316b30f 62677367093042972638193931116182539022631987629 834735392302294580376981983770914888140281025623\n",
    "b02779d43e59c627366fe199c3a4ffd8 490553192546982005938505944549409961040761757374 40926280466578241074259814047741142139704695154\n",
    "13e7077949d27242d1b929573e53b8c0 322676636696483783637962630556349414545989040256 5219166470614600399232747885662917234277271518\n",
    "9d1b33d7947dc37a0a1ae0d76bc4e19c 694391997465869647082796275874806655704518308683 95895975061665613749411003300252752747020782304\n",
    "e14d5da60b7fb47748e93a511f112211 177142279884025191294442765683904472419346732673 208006580604350141654306093010795037268446767093\n",
    "5743d883b14925990c5de1d01d034459 651307304987263723977076465025876997908283036893 461462422868418804913154004156821870571125643113\n",
    "f1eebd44a21d93161136d3739e88aa31 823468138789442390462916656722626385595800674616 281294097884225541462318759968999165438251516462\n",
    "9cee788cf3f368fc51c64d1597bd45d0 811246509903701814205448317039016875019790338280 832046349211770387486786826325660390748782912679\n",
    "71bd2535c7b2c130c23d1ecc594a77d8 572350943612143576712573738997082114172478655333 782199723804233869832726483921074661347918794551\n",
    "7e7c043ad4996f0abeb55df4b820a887 213517678544896741007418221548416048514845688428 827999253968809785529348041538623147325562857277\n",
    "cd4a7c5944d4e05a2fa8112b9ada3a72 420591097421589559982501269192161848061514280366 622412911189212635495329152767350462439345392346\n",
    "432dc827eede15a65f148f045c094f21 351987279623788978239680889714448664759657635137 50407956315316299556273344263369677261646066133\n",
    "1d288da5c2bcebad1a7f28ff8360aa66 605197334934710540508376554752874411420236920112 573384386213901397434374535912385413103337171962\n",
    "eeaa0131d9a638b00ecdc5c1b3848105 636549696280481311816063785825330354706372334988 677417176910522205636049963355080290634733980940\n",
    "2073856e93e44685a8849cf3c866ff46 190387623166181644560631328517466435352879267948 511430252047994983287091603315149837357220198789\n",
    "c83d3c22a3c745a415e026a408b7c22d 216563550893245684819513146552482053196195238439 488809910070185985826385395890168139236662350302\n",
    "249dd033c5907175147c4cceb13cd97c 402642496338716386399665171239449269607440167613 376243263700087577498502420334772266449483541983\n",
    "276dfd9338c1bf0cb366a6cbb92dad38 304815159081149000526099245953873876900245554531 114459647132604901263684232801526608213505503288\n",
    "3db13d7f3bba73e7400ce11d01c8f7bc 626105715709643478832466983834668749205499786207 325917727926268855831559085232937409819238143160\n",
    "0b6e84f738a2cb5252bcacd6570e23af 407243059354235570789114177064261146285596064276 744051966754739029843069327776913404454208782079\n",
    "468c453ae1f1ca16c700f6e84b809141 656560150112928416903795364139368058739176123341 613570320964046429517420549751177438467890084001\n",
    "5ed75d9cafeaf96e5664466529383c1b 747559540028304366767362442791017581328413481910 341245645641244348701514795890114294056111000148\n",
    "ad761b19276c0e5ae31972c4f844c4c7 770434957180340868000986641614282640146676073035 567789434324284742201899279503393799768494757961\n",
    "657473ffc5300c533882be7bedb47708 657388046900469218199435721422226853887175503404 79344190450075494620828796323553128199111962812\n",
    "0c061cf2188f354d80b709d87b70d82c 739592910158724925281630892173924869168521996106 647135961337510566131619076264071584975252473400\n",
    "'''\n",
    "m = []\n",
    "r = []\n",
    "s = []\n",
    "for each in ip.splitlines():\n",
    "    if each:\n",
    "        m.append(Integer(each.split(' ')[0], 16))\n",
    "        exec('a = ' + each.split(' ')[1])\n",
    "        r.append(a)\n",
    "        exec('a = ' + each.split(' ')[2])\n",
    "        s.append(a)"
   ]
  },
  {
   "cell_type": "code",
   "execution_count": 108,
   "metadata": {},
   "outputs": [],
   "source": [
    "A = []\n",
    "B = []\n",
    "for i in range(30):\n",
    "    A.append((r[i] / s[i] % q))\n",
    "    B.append((bytes_to_long(sha1(long_to_bytes(m[i])).digest()) / s[i] % q))"
   ]
  },
  {
   "cell_type": "code",
   "execution_count": 109,
   "metadata": {},
   "outputs": [],
   "source": [
    "M = []\n",
    "N = []\n",
    "for i in range(30):\n",
    "    M.append(256*inverse_mod(A[i], q)%q)\n",
    "    N.append(B[i]*inverse_mod(A[i], q)%q)"
   ]
  },
  {
   "cell_type": "code",
   "execution_count": 110,
   "metadata": {},
   "outputs": [],
   "source": [
    "k = (N[0]-N[1]) / (M[0]-M[1]) % q "
   ]
  },
  {
   "cell_type": "code",
   "execution_count": 118,
   "metadata": {},
   "outputs": [
    {
     "data": {
      "text/plain": [
       "233668575797428839977858239389094082022838189724"
      ]
     },
     "execution_count": 118,
     "metadata": {},
     "output_type": "execute_result"
    }
   ],
   "source": [
    "(256*k-B[0])*inverse_mod(A[0], q) % q"
   ]
  },
  {
   "cell_type": "code",
   "execution_count": 119,
   "metadata": {},
   "outputs": [
    {
     "data": {
      "text/plain": [
       "233668575797428839977858239389094082022838189724"
      ]
     },
     "execution_count": 119,
     "metadata": {},
     "output_type": "execute_result"
    }
   ],
   "source": [
    "(256*k-B[1])*inverse_mod(A[1], q) % q"
   ]
  },
  {
   "cell_type": "code",
   "execution_count": 121,
   "metadata": {},
   "outputs": [
    {
     "data": {
      "text/plain": [
       "3273886676875809937230863671814687347372055234"
      ]
     },
     "execution_count": 121,
     "metadata": {},
     "output_type": "execute_result"
    }
   ],
   "source": [
    "q//256"
   ]
  },
  {
   "cell_type": "code",
   "execution_count": 72,
   "metadata": {},
   "outputs": [],
   "source": [
    "k = getPrime(200)\n",
    "k = k % q"
   ]
  },
  {
   "cell_type": "code",
   "execution_count": 73,
   "metadata": {},
   "outputs": [],
   "source": [
    "k ^^= (k&0xff)"
   ]
  },
  {
   "cell_type": "code",
   "execution_count": 75,
   "metadata": {},
   "outputs": [],
   "source": [
    "x = getPrime(100)"
   ]
  },
  {
   "cell_type": "code",
   "execution_count": 76,
   "metadata": {},
   "outputs": [],
   "source": [
    "hm = 0x9aa471b4c9420bc0599c31f9c0e24e71\n",
    "r = power_mod(g,k,p)%q\n",
    "s = (hm+x*r)/k %q"
   ]
  },
  {
   "cell_type": "code",
   "execution_count": 77,
   "metadata": {},
   "outputs": [
    {
     "data": {
      "text/plain": [
       "(558734759593138091261893115861060689694865396934,\n",
       " 503295213929988819868694532152892205027921361037)"
      ]
     },
     "execution_count": 77,
     "metadata": {},
     "output_type": "execute_result"
    }
   ],
   "source": [
    "r,s"
   ]
  },
  {
   "cell_type": "code",
   "execution_count": 78,
   "metadata": {},
   "outputs": [],
   "source": [
    "A = r/s % q"
   ]
  },
  {
   "cell_type": "code",
   "execution_count": 79,
   "metadata": {},
   "outputs": [],
   "source": [
    "B = hm/s % q"
   ]
  },
  {
   "cell_type": "code",
   "execution_count": 96,
   "metadata": {},
   "outputs": [
    {
     "data": {
      "text/plain": [
       "0"
      ]
     },
     "execution_count": 96,
     "metadata": {},
     "output_type": "execute_result"
    }
   ],
   "source": [
    "(A*x+B)%q%256"
   ]
  },
  {
   "cell_type": "code",
   "execution_count": 98,
   "metadata": {},
   "outputs": [
    {
     "data": {
      "text/plain": [
       "30"
      ]
     },
     "execution_count": 98,
     "metadata": {},
     "output_type": "execute_result"
    }
   ],
   "source": [
    "(-B/A)%256"
   ]
  },
  {
   "cell_type": "code",
   "execution_count": 99,
   "metadata": {},
   "outputs": [
    {
     "data": {
      "text/plain": [
       "149"
      ]
     },
     "execution_count": 99,
     "metadata": {},
     "output_type": "execute_result"
    }
   ],
   "source": [
    "x%q%256"
   ]
  },
  {
   "cell_type": "code",
   "execution_count": 85,
   "metadata": {},
   "outputs": [
    {
     "data": {
      "text/plain": [
       "135"
      ]
     },
     "execution_count": 85,
     "metadata": {},
     "output_type": "execute_result"
    }
   ],
   "source": [
    "(A*x+B) % 256"
   ]
  },
  {
   "cell_type": "code",
   "execution_count": 86,
   "metadata": {},
   "outputs": [
    {
     "data": {
      "text/plain": [
       "True"
      ]
     },
     "execution_count": 86,
     "metadata": {},
     "output_type": "execute_result"
    }
   ],
   "source": [
    "k%q == k"
   ]
  },
  {
   "cell_type": "code",
   "execution_count": 88,
   "metadata": {},
   "outputs": [
    {
     "data": {
      "text/plain": [
       "1"
      ]
     },
     "execution_count": 88,
     "metadata": {},
     "output_type": "execute_result"
    }
   ],
   "source": [
    "gcd(q, 256)"
   ]
  },
  {
   "cell_type": "code",
   "execution_count": 91,
   "metadata": {},
   "outputs": [
    {
     "data": {
      "text/plain": [
       "113"
      ]
     },
     "execution_count": 91,
     "metadata": {},
     "output_type": "execute_result"
    }
   ],
   "source": [
    "A%q%256"
   ]
  },
  {
   "cell_type": "code",
   "execution_count": 92,
   "metadata": {},
   "outputs": [
    {
     "data": {
      "text/plain": [
       "113"
      ]
     },
     "execution_count": 92,
     "metadata": {},
     "output_type": "execute_result"
    }
   ],
   "source": [
    "A%256"
   ]
  },
  {
   "cell_type": "code",
   "execution_count": 100,
   "metadata": {},
   "outputs": [
    {
     "name": "stdout",
     "output_type": "stream",
     "text": [
      "180\n"
     ]
    }
   ],
   "source": [
    "for x in range(0,256):\n",
    "    if (A*x+B)%q%256 == 0:\n",
    "        print(x)"
   ]
  },
  {
   "cell_type": "code",
   "execution_count": 101,
   "metadata": {},
   "outputs": [
    {
     "data": {
      "text/plain": [
       "255"
      ]
     },
     "execution_count": 101,
     "metadata": {},
     "output_type": "execute_result"
    }
   ],
   "source": [
    "x%256"
   ]
  },
  {
   "cell_type": "code",
   "execution_count": 122,
   "metadata": {},
   "outputs": [],
   "source": [
    "M = matrix([[1,2],[3,4]])"
   ]
  },
  {
   "cell_type": "code",
   "execution_count": 123,
   "metadata": {},
   "outputs": [
    {
     "data": {
      "text/plain": [
       "[1 0]\n",
       "[0 2]"
      ]
     },
     "execution_count": 123,
     "metadata": {},
     "output_type": "execute_result"
    }
   ],
   "source": [
    "M.LLL()"
   ]
  },
  {
   "cell_type": "code",
   "execution_count": 124,
   "metadata": {},
   "outputs": [
    {
     "data": {
      "text/plain": [
       "[1 0]\n",
       "[0 2]"
      ]
     },
     "execution_count": 124,
     "metadata": {},
     "output_type": "execute_result"
    }
   ],
   "source": [
    "M.BKZ()"
   ]
  },
  {
   "cell_type": "code",
   "execution_count": 127,
   "metadata": {},
   "outputs": [],
   "source": [
    "M = M.change_ring(Zmod(23))"
   ]
  },
  {
   "cell_type": "code",
   "execution_count": 129,
   "metadata": {},
   "outputs": [
    {
     "data": {
      "text/plain": [
       "[1 0]\n",
       "[0 1]"
      ]
     },
     "execution_count": 129,
     "metadata": {},
     "output_type": "execute_result"
    }
   ],
   "source": [
    "M.inverse() * M"
   ]
  },
  {
   "cell_type": "code",
   "execution_count": 133,
   "metadata": {},
   "outputs": [
    {
     "data": {
      "text/plain": [
       "[1 2 0]\n",
       "[3 4 2]"
      ]
     },
     "execution_count": 133,
     "metadata": {},
     "output_type": "execute_result"
    }
   ],
   "source": [
    "M.augment(vector([0,2]))"
   ]
  },
  {
   "cell_type": "code",
   "execution_count": 134,
   "metadata": {},
   "outputs": [],
   "source": [
    "n = 19574723551172594934378443973857653882230839231011898524120643712039872440218732212193753521056229643936703982298834754467679428068831410909497011970431047064746186173387953635920375684841948555473139108925920536313548219419288935191912507878246677073035131813708395763654977932755565542320795941329423423208998672367058653114593708642993327694689216829085435845744077812282482787953506144053372818707406145290623391819864945936257756652036870158505935575683853417818506005058500790525031307022902255944215725732838449716186132939793967114354219371069360792431829777519509247171075898733785084480174528173121962542907\n",
    "enc_flag = 4647252519146866962159751365855684171196222012554743766716545716314561745722045910525420563366468956601408161243205078979625913868795373788399968071485014551709447269157804171387826847623627332429194296113812177851236627779452836350751807174155019452017629179860408115803754220671538978088597689013261891371426731304374717969866585558017968359548077106379201807797543203107753199656237602623843702672039306834394222608758317467116500365550495018315471458817039254773955824568707778593405633729987525178794971362072625188272370709489540959871736862903415070439527993106716090021195870422758703497846396621696708522588\n",
    "enc_data = 4596249862113123625405026502983807747461234119067222792276742188101597600596557006960425191717517864883860971778956027077020003375184260471239841362920905584939785820206773230635046839777083913985962313122344457430525007200788315334428656438113174806131953719390796693850501702496396394311453910962006475557123945212467786005154707729203007460486870927978598036882871216095470801252862754755272227655622744668744285126586664391948932053185998708519953451513076348085333298347541133484775170858236571586448742050614420603506831586215471849858663987325818134212298298426740458021418185099291688094737004635044159213518\n",
    "e = 65537\n",
    "data = b\"0ops\""
   ]
  },
  {
   "cell_type": "code",
   "execution_count": 137,
   "metadata": {},
   "outputs": [],
   "source": [
    "p = gcd(enc_data - bytes_to_long(data), n)"
   ]
  },
  {
   "cell_type": "code",
   "execution_count": 138,
   "metadata": {},
   "outputs": [],
   "source": [
    "q = n/p"
   ]
  },
  {
   "cell_type": "code",
   "execution_count": 139,
   "metadata": {},
   "outputs": [
    {
     "data": {
      "text/plain": [
       "121444994614350731322215466848587369658316616029161568482824636727383720899611066799867295652239094685281724868251533828896546988622363284398126292849889207737038034940649253360470532925465386315060207697731591074321264456010102229007503330900598365671428357915256865407986361885707545273655807191790161560327"
      ]
     },
     "execution_count": 139,
     "metadata": {},
     "output_type": "execute_result"
    }
   ],
   "source": [
    "q"
   ]
  },
  {
   "cell_type": "code",
   "execution_count": 140,
   "metadata": {},
   "outputs": [],
   "source": [
    "d = inverse_mod(e, (p-1)*(q-1))"
   ]
  },
  {
   "cell_type": "code",
   "execution_count": 142,
   "metadata": {},
   "outputs": [
    {
     "data": {
      "text/plain": [
       "b\"\\x95?\\x0f\\xb2M\\xd6\\x17W\\x08ktM\\x05\\t\\x05\\x8cV5\\xc4Iz_k\\x0c\\xd0\\xe2\\x18dIHP\\x08\\x03\\xd2*\\xb4WVM\\xd2\\x8f\\x0f\\x1feX\\xaaP\\xa0r\\xaa{\\xa2\\x9b\\xd0d \\x8c\\xa0\\x0f\\xfa\\x83\\x90\\x01\\xb78rF\\xf5}\\xa4t\\xff\\xd4\\x7fI\\x9c\\x85\\xd5v\\xb6\\\\M\\x8b\\xc10\\xf9\\xdcDt\\x83p\\xd0D\\xcc\\x90m_\\xeb}\\xf2B\\x17\\t\\x8ey\\xca2\\x94\\xfby\\x02\\x85\\x86\\xe4M\\xd8J\\x01siMO\\xc4\\xd3w\\xae81\\x02\\xe3a\\xb4\\x9by\\x1d;\\xd3\\x13\\xb5\\x8f\\x08\\x04\\xa3A\\x05\\x95\\x87\\x99t?-L2\\xc3f>\\xe5\\xff\\x03}\\xc8\\xe3\\xcd\\xf6\\xf8\\x96sZ\\xb81\\x88;E\\xf3\\xe4\\xc0\\x18\\x0bL\\xb4\\xe9\\nR\\x18p\\xff\\xab'\\x90\\xed\\x90\\xfc(\\x8f_\\x80\\xdc\\xe6\\xd2\\xda\\x84\\xb5\\x92\\xd8tR\\x98\\xd3c\\x00\\x9atb\\xa2\\x0fj\\xe0\\xd3b0ops{605af3da74e476733a37fac26f3122}\""
      ]
     },
     "execution_count": 142,
     "metadata": {},
     "output_type": "execute_result"
    }
   ],
   "source": [
    "long_to_bytes(power_mod(enc_flag, d, n))"
   ]
  },
  {
   "cell_type": "code",
   "execution_count": null,
   "metadata": {},
   "outputs": [],
   "source": []
  }
 ],
 "metadata": {
  "kernelspec": {
   "display_name": "SageMath 8.1",
   "language": "",
   "name": "sagemath"
  },
  "language_info": {
   "codemirror_mode": {
    "name": "ipython",
    "version": 2
   },
   "file_extension": ".py",
   "mimetype": "text/x-python",
   "name": "python",
   "nbconvert_exporter": "python",
   "pygments_lexer": "ipython2",
   "version": "2.7.17"
  }
 },
 "nbformat": 4,
 "nbformat_minor": 4
}
