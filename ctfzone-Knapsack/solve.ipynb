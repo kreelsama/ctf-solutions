{
 "cells": [
  {
   "cell_type": "code",
   "execution_count": 42,
   "metadata": {},
   "outputs": [],
   "source": [
    "with open('enc', 'r') as f:\n",
    "    w = f.read()\n",
    "exec(w)\n",
    "\n",
    "r = len(pub)\n",
    "\n",
    "M = matrix(r+1, r+1, 0)\n",
    "\n",
    "M.set_block(0,0, matrix.identity(r))\n",
    "    \n",
    "M.set_block(r, 0, matrix(QQ, pub))\n",
    "\n",
    "M.set_block(r,r,matrix(QQ,[-enc]))"
   ]
  },
  {
   "cell_type": "code",
   "execution_count": 43,
   "metadata": {},
   "outputs": [],
   "source": [
    "N = M.T.LLL()"
   ]
  },
  {
   "cell_type": "code",
   "execution_count": 59,
   "metadata": {},
   "outputs": [],
   "source": [
    "m = ()\n",
    "for col in N:\n",
    "    if col[-1] == 0:\n",
    "        for each in col:\n",
    "            if each not in {0, 1}:\n",
    "                break\n",
    "        else:\n",
    "            m = col\n",
    "            break"
   ]
  },
  {
   "cell_type": "code",
   "execution_count": 61,
   "metadata": {},
   "outputs": [],
   "source": [
    "bins = ''.join([str(c) for c in m[:-1]])"
   ]
  },
  {
   "cell_type": "code",
   "execution_count": 66,
   "metadata": {},
   "outputs": [],
   "source": [
    "flag = Integer(bins, 2)"
   ]
  },
  {
   "cell_type": "code",
   "execution_count": 67,
   "metadata": {},
   "outputs": [
    {
     "data": {
      "text/plain": [
       "'0ops{tell_admin_if_you_do_not_use_LLL}'"
      ]
     },
     "execution_count": 67,
     "metadata": {},
     "output_type": "execute_result"
    }
   ],
   "source": [
    "from Crypto.Util.number import long_to_bytes\n",
    "long_to_bytes(flag)"
   ]
  },
  {
   "cell_type": "code",
   "execution_count": null,
   "metadata": {},
   "outputs": [],
   "source": []
  }
 ],
 "metadata": {
  "kernelspec": {
   "display_name": "SageMath 8.1",
   "language": "",
   "name": "sagemath"
  },
  "language_info": {
   "codemirror_mode": {
    "name": "ipython",
    "version": 2
   },
   "file_extension": ".py",
   "mimetype": "text/x-python",
   "name": "python",
   "nbconvert_exporter": "python",
   "pygments_lexer": "ipython2",
   "version": "2.7.17"
  }
 },
 "nbformat": 4,
 "nbformat_minor": 4
}
