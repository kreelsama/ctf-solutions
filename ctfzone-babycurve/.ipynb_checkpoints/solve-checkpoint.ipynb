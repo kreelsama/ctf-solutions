{
 "cells": [
  {
   "cell_type": "code",
   "execution_count": 18,
   "metadata": {},
   "outputs": [],
   "source": [
    "x0,y0 = (636441264789424866585476751229, 775421649189707161813344094607)\n",
    "x1,y1 = (323593134428967336686886781091, 343133842079568352607212334131)\n",
    "x2,y2 = (295175242161884838283932655257, 396938578303040210498919166161)\n",
    "x3,y3 = (426409976765295228852914146172, 829735690887265228238647719020)"
   ]
  },
  {
   "cell_type": "code",
   "execution_count": 19,
   "metadata": {},
   "outputs": [],
   "source": [
    "s1 = x1 - x0\n",
    "s2 = x3 - x2\n",
    "t1 = y1^2 - y0^2 - x1^3 + x0^3\n",
    "t2 = y3^2 - y2^2 - x3^3 + x2^3"
   ]
  },
  {
   "cell_type": "code",
   "execution_count": 20,
   "metadata": {},
   "outputs": [
    {
     "data": {
      "text/plain": [
       "13174981055455516755822767653011521828322318378423529915833257429946369624452044846245409182033040353299246600352093062"
      ]
     },
     "execution_count": 20,
     "metadata": {},
     "output_type": "execute_result"
    }
   ],
   "source": [
    "X1 = abs(s1*t2 - s2*t1)\n",
    "X1"
   ]
  },
  {
   "cell_type": "code",
   "execution_count": 21,
   "metadata": {},
   "outputs": [],
   "source": [
    "s1 = x2 - x0\n",
    "s2 = x3 - x1\n",
    "t1 = y2^2 - y0^2 - x2^3 + x0^3\n",
    "t2 = y3^2 - y1^2 - x3^3 + x1^3"
   ]
  },
  {
   "cell_type": "code",
   "execution_count": 22,
   "metadata": {},
   "outputs": [
    {
     "data": {
      "text/plain": [
       "8965879442336789389987217850898412507290514712684723304910781923963210333815384052359806270125019277570276235621399172"
      ]
     },
     "execution_count": 22,
     "metadata": {},
     "output_type": "execute_result"
    }
   ],
   "source": [
    "X2 = abs(s1*t2 - s2*t1)\n",
    "X2"
   ]
  },
  {
   "cell_type": "code",
   "execution_count": 23,
   "metadata": {},
   "outputs": [
    {
     "data": {
      "text/plain": [
       "2108200227524651713682772387382"
      ]
     },
     "execution_count": 23,
     "metadata": {},
     "output_type": "execute_result"
    }
   ],
   "source": [
    "gcd(X1, X2)"
   ]
  },
  {
   "cell_type": "code",
   "execution_count": 26,
   "metadata": {},
   "outputs": [
    {
     "data": {
      "text/plain": [
       "13 * 480722878195892454214250218534588553130244952488791568536504667196255564991809801910557"
      ]
     },
     "execution_count": 26,
     "metadata": {},
     "output_type": "execute_result"
    }
   ],
   "source": [
    "factor(X1 / gcd(X1, X2))"
   ]
  },
  {
   "cell_type": "code",
   "execution_count": 27,
   "metadata": {},
   "outputs": [
    {
     "data": {
      "text/plain": [
       "2 * 3 * 19 * 43 * 83 * 7240637 * 19664382779 * 1921260964699991661713 * 38210804898515110022388990525374966550550469"
      ]
     },
     "execution_count": 27,
     "metadata": {},
     "output_type": "execute_result"
    }
   ],
   "source": [
    "factor(X2 / gcd(X1, X2))"
   ]
  },
  {
   "cell_type": "code",
   "execution_count": 28,
   "metadata": {},
   "outputs": [
    {
     "data": {
      "text/plain": [
       "2108200227524651713682772387382"
      ]
     },
     "execution_count": 28,
     "metadata": {},
     "output_type": "execute_result"
    }
   ],
   "source": [
    "gcd(X1, X2)"
   ]
  },
  {
   "cell_type": "code",
   "execution_count": 31,
   "metadata": {},
   "outputs": [
    {
     "data": {
      "text/plain": [
       "2 * 1054100113762325856841386193691"
      ]
     },
     "execution_count": 31,
     "metadata": {},
     "output_type": "execute_result"
    }
   ],
   "source": [
    "factor(2108200227524651713682772387382)"
   ]
  },
  {
   "cell_type": "code",
   "execution_count": 36,
   "metadata": {},
   "outputs": [
    {
     "data": {
      "text/plain": [
       "True"
      ]
     },
     "execution_count": 36,
     "metadata": {},
     "output_type": "execute_result"
    }
   ],
   "source": [
    "426409976765295228852914146172 < 1054100113762325856841386193691"
   ]
  },
  {
   "cell_type": "code",
   "execution_count": 37,
   "metadata": {},
   "outputs": [
    {
     "data": {
      "text/plain": [
       "True"
      ]
     },
     "execution_count": 37,
     "metadata": {},
     "output_type": "execute_result"
    }
   ],
   "source": [
    "829735690887265228238647719020 < 1054100113762325856841386193691"
   ]
  },
  {
   "cell_type": "code",
   "execution_count": 39,
   "metadata": {},
   "outputs": [],
   "source": [
    "p = 1054100113762325856841386193691"
   ]
  },
  {
   "cell_type": "code",
   "execution_count": 40,
   "metadata": {},
   "outputs": [],
   "source": [
    "s1 = x1 - x0\n",
    "t1 = y1^2 - y0^2 - x1^3 + x0^3\n",
    "a = (inverse_mod(s1, p) * t1) % p"
   ]
  },
  {
   "cell_type": "code",
   "execution_count": 41,
   "metadata": {},
   "outputs": [],
   "source": [
    "b = (y0^2 - x0^3 - a * x0 ) % p"
   ]
  },
  {
   "cell_type": "code",
   "execution_count": 42,
   "metadata": {},
   "outputs": [],
   "source": [
    "E = EllipticCurve(Zmod(p), [a,b])"
   ]
  },
  {
   "cell_type": "code",
   "execution_count": 43,
   "metadata": {},
   "outputs": [],
   "source": [
    "P = E((636441264789424866585476751229, 775421649189707161813344094607))"
   ]
  },
  {
   "cell_type": "code",
   "execution_count": 45,
   "metadata": {},
   "outputs": [
    {
     "data": {
      "text/plain": [
       "True"
      ]
     },
     "execution_count": 45,
     "metadata": {},
     "output_type": "execute_result"
    }
   ],
   "source": [
    "E.is_on_curve(x1,y1)"
   ]
  },
  {
   "cell_type": "code",
   "execution_count": 46,
   "metadata": {},
   "outputs": [
    {
     "data": {
      "text/plain": [
       "True"
      ]
     },
     "execution_count": 46,
     "metadata": {},
     "output_type": "execute_result"
    }
   ],
   "source": [
    "E.is_on_curve(x2, y2)"
   ]
  },
  {
   "cell_type": "code",
   "execution_count": 47,
   "metadata": {},
   "outputs": [
    {
     "data": {
      "text/plain": [
       "True"
      ]
     },
     "execution_count": 47,
     "metadata": {},
     "output_type": "execute_result"
    }
   ],
   "source": [
    "E.is_on_curve(x3, y3)"
   ]
  },
  {
   "cell_type": "code",
   "execution_count": 69,
   "metadata": {},
   "outputs": [
    {
     "data": {
      "text/plain": [
       "1054100113762327057186979416175"
      ]
     },
     "execution_count": 69,
     "metadata": {},
     "output_type": "execute_result"
    }
   ],
   "source": [
    "P.order()"
   ]
  },
  {
   "cell_type": "code",
   "execution_count": 50,
   "metadata": {},
   "outputs": [
    {
     "data": {
      "text/plain": [
       "5^2 * 4877 * 23417 * 24877 * 31259 * 474771622981"
      ]
     },
     "execution_count": 50,
     "metadata": {},
     "output_type": "execute_result"
    }
   ],
   "source": [
    "factor(P.order())"
   ]
  },
  {
   "cell_type": "code",
   "execution_count": 51,
   "metadata": {},
   "outputs": [],
   "source": [
    "G1 = E((323593134428967336686886781091, 343133842079568352607212334131))\n",
    "G2 = E((295175242161884838283932655257, 396938578303040210498919166161))\n",
    "G3 = E((426409976765295228852914146172, 829735690887265228238647719020))"
   ]
  },
  {
   "cell_type": "code",
   "execution_count": 74,
   "metadata": {},
   "outputs": [
    {
     "name": "stdout",
     "output_type": "stream",
     "text": [
      "14990002272700374064840192305\n",
      "31376689265995027559693509220\n",
      "31065995312267842664305931133\n"
     ]
    }
   ],
   "source": [
    "primes = [25, 4877, 23417, 24877, 31259, 474771622981]\n",
    "dlogs = []\n",
    "for fac in primes:\n",
    "    t = int(P.order()) // int(fac)\n",
    "    dlog = discrete_log(t*G1,t*P,operation=\"+\")\n",
    "    dlogs += [dlog]\n",
    "    \n",
    "n1 = crt(dlogs1, primes)\n",
    "print(n1)\n",
    "\n",
    "dlogs = []\n",
    "for fac in primes:\n",
    "    t = int(P.order()) // int(fac)\n",
    "    dlog = discrete_log(t*G2,t*P,operation=\"+\")\n",
    "    dlogs += [dlog]\n",
    "    \n",
    "n2 = crt(dlogs, primes)\n",
    "print(n2)\n",
    "\n",
    "dlogs = []\n",
    "for fac in primes:\n",
    "    t = int(P.order()) // int(fac)\n",
    "    dlog = discrete_log(t*G3,t*P,operation=\"+\")\n",
    "    dlogs += [dlog]\n",
    "    \n",
    "n3 = crt(dlogs, primes)\n",
    "print(n3)\n"
   ]
  },
  {
   "cell_type": "code",
   "execution_count": 78,
   "metadata": {},
   "outputs": [],
   "source": [
    "assert(n1*P == G1 and n2*P == G2 and n3*P == G3)"
   ]
  },
  {
   "cell_type": "code",
   "execution_count": 76,
   "metadata": {},
   "outputs": [
    {
     "data": {
      "text/plain": [
       "b'0ops{1776211eb0ea5b40ebdda0df6460f3}'"
      ]
     },
     "execution_count": 76,
     "metadata": {},
     "output_type": "execute_result"
    }
   ],
   "source": [
    "from Crypto.Util.number import long_to_bytes\n",
    "long_to_bytes(n1) + long_to_bytes(n2) + long_to_bytes(n3)"
   ]
  },
  {
   "cell_type": "code",
   "execution_count": 65,
   "metadata": {},
   "outputs": [
    {
     "data": {
      "text/plain": [
       "True"
      ]
     },
     "execution_count": 65,
     "metadata": {},
     "output_type": "execute_result"
    }
   ],
   "source": []
  },
  {
   "cell_type": "code",
   "execution_count": null,
   "metadata": {},
   "outputs": [],
   "source": []
  }
 ],
 "metadata": {
  "kernelspec": {
   "display_name": "SageMath 9.0",
   "language": "sage",
   "name": "sagemath"
  },
  "language_info": {
   "codemirror_mode": {
    "name": "ipython",
    "version": 3
   },
   "file_extension": ".py",
   "mimetype": "text/x-python",
   "name": "python",
   "nbconvert_exporter": "python",
   "pygments_lexer": "ipython3",
   "version": "3.8.5"
  }
 },
 "nbformat": 4,
 "nbformat_minor": 4
}
