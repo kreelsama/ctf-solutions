{
 "cells": [
  {
   "cell_type": "code",
   "execution_count": 1,
   "metadata": {},
   "outputs": [],
   "source": [
    "P = (636441264789424866585476751229, 775421649189707161813344094607)\n",
    "A = (323593134428967336686886781091, 343133842079568352607212334131)\n",
    "B = (295175242161884838283932655257, 396938578303040210498919166161)\n",
    "C = (426409976765295228852914146172, 829735690887265228238647719020)"
   ]
  },
  {
   "cell_type": "code",
   "execution_count": 60,
   "metadata": {},
   "outputs": [],
   "source": [
    "from functools import reduce\n",
    "def solve(P1,P2,P3,P4):\n",
    "    x1, y1 = P1[0], P1[1]^2-P1[0]^3\n",
    "    x2, y2 = P2[0], P2[1]^2-P2[0]^3\n",
    "    x3, y3 = P3[0], P3[1]^2-P3[0]^3\n",
    "    x4, y4 = P4[0], P4[1]^2-P4[0]^3\n",
    "    \n",
    "    M1 = (x2-x1)*(y2-y3) - (y2-y1)*(x2-x3)\n",
    "    M2 = (x4-x3)*(y3-y1) - (y4-y3)*(x3-x1)\n",
    "    M3 = (x3-x1)*(y4-y2) - (y3-y1)*(x4-x2)\n",
    "    M4 = (x4-x2)*(y2-y1) - (y4-y2)*(x2-x1)\n",
    "    \n",
    "    N = reduce(gcd, [M1,M2,M3,M4])\n",
    "    if not is_prime(N):\n",
    "        N = factor(N)[-1][0]\n",
    "        \n",
    "    A = (y1-y2)/(x1-x2) % N\n",
    "    B = (y1 - A*x1) % N\n",
    "    E = EllipticCurve(Zmod(N), [A, B])\n",
    "    assert(all(map(lambda x: x in E, [P1, P2, P3, P4])))\n",
    "    return A,B,N"
   ]
  },
  {
   "cell_type": "code",
   "execution_count": 62,
   "metadata": {},
   "outputs": [
    {
     "name": "stdout",
     "output_type": "stream",
     "text": [
      "False\n"
     ]
    }
   ],
   "source": [
    "a,b,n = solve(P,A,B,C)\n",
    "E = EllipticCurve(Zmod(n), [a, b])\n",
    "G = E(P)\n",
    "print(is_prime(G.order()))"
   ]
  },
  {
   "cell_type": "code",
   "execution_count": 63,
   "metadata": {},
   "outputs": [
    {
     "data": {
      "text/plain": [
       "5^2 * 4877 * 23417 * 24877 * 31259 * 474771622981"
      ]
     },
     "execution_count": 63,
     "metadata": {},
     "output_type": "execute_result"
    }
   ],
   "source": []
  },
  {
   "cell_type": "code",
   "execution_count": 64,
   "metadata": {},
   "outputs": [],
   "source": [
    "G1 = E(A)\n",
    "G2 = E(B)\n",
    "G3 = E(C)\n",
    "fac = factor(G.order())"
   ]
  },
  {
   "cell_type": "code",
   "execution_count": 55,
   "metadata": {},
   "outputs": [],
   "source": [
    "def pol_DLG(E, G, nG, factors):\n",
    "    o = G.order()\n",
    "    dlogs = []\n",
    "    for fac in factors:\n",
    "        t = o // fac[0]\n",
    "        dlog = discrete_log(t*nG,t*G,operation=\"+\")\n",
    "        dlogs += [dlog]"
   ]
  },
  {
   "cell_type": "code",
   "execution_count": 59,
   "metadata": {},
   "outputs": [
    {
     "data": {
      "text/plain": [
       "True"
      ]
     },
     "execution_count": 59,
     "metadata": {},
     "output_type": "execute_result"
    }
   ],
   "source": []
  },
  {
   "cell_type": "code",
   "execution_count": 48,
   "metadata": {},
   "outputs": [
    {
     "data": {
      "text/plain": [
       "6"
      ]
     },
     "execution_count": 48,
     "metadata": {},
     "output_type": "execute_result"
    }
   ],
   "source": []
  },
  {
   "cell_type": "code",
   "execution_count": null,
   "metadata": {},
   "outputs": [],
   "source": []
  }
 ],
 "metadata": {
  "kernelspec": {
   "display_name": "SageMath 9.0",
   "language": "sage",
   "name": "sagemath"
  },
  "language_info": {
   "codemirror_mode": {
    "name": "ipython",
    "version": 3
   },
   "file_extension": ".py",
   "mimetype": "text/x-python",
   "name": "python",
   "nbconvert_exporter": "python",
   "pygments_lexer": "ipython3",
   "version": "3.8.5"
  }
 },
 "nbformat": 4,
 "nbformat_minor": 4
}
